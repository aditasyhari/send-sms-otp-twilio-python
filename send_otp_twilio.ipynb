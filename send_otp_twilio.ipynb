{
  "nbformat": 4,
  "nbformat_minor": 0,
  "metadata": {
    "colab": {
      "name": "send otp twilio.ipynb",
      "provenance": []
    },
    "kernelspec": {
      "name": "python3",
      "display_name": "Python 3"
    },
    "language_info": {
      "name": "python"
    }
  },
  "cells": [
    {
      "cell_type": "code",
      "metadata": {
        "colab": {
          "base_uri": "https://localhost:8080/"
        },
        "id": "17ujyAcNKUWj",
        "outputId": "1f593bf0-0657-49ac-ddeb-3eec2eb2ed50"
      },
      "source": [
        "!pip install twilio"
      ],
      "execution_count": null,
      "outputs": [
        {
          "output_type": "stream",
          "text": [
            "Collecting twilio\n",
            "\u001b[?25l  Downloading https://files.pythonhosted.org/packages/fa/82/652c90444b8b4b82de474b3b45682805cbb5520164828169550f44a61272/twilio-6.60.0.tar.gz (481kB)\n",
            "\r\u001b[K     |▊                               | 10kB 22.2MB/s eta 0:00:01\r\u001b[K     |█▍                              | 20kB 20.9MB/s eta 0:00:01\r\u001b[K     |██                              | 30kB 15.8MB/s eta 0:00:01\r\u001b[K     |██▊                             | 40kB 14.4MB/s eta 0:00:01\r\u001b[K     |███▍                            | 51kB 8.1MB/s eta 0:00:01\r\u001b[K     |████                            | 61kB 9.4MB/s eta 0:00:01\r\u001b[K     |████▊                           | 71kB 8.9MB/s eta 0:00:01\r\u001b[K     |█████▌                          | 81kB 9.7MB/s eta 0:00:01\r\u001b[K     |██████▏                         | 92kB 9.3MB/s eta 0:00:01\r\u001b[K     |██████▉                         | 102kB 7.8MB/s eta 0:00:01\r\u001b[K     |███████▌                        | 112kB 7.8MB/s eta 0:00:01\r\u001b[K     |████████▏                       | 122kB 7.8MB/s eta 0:00:01\r\u001b[K     |████████▉                       | 133kB 7.8MB/s eta 0:00:01\r\u001b[K     |█████████▌                      | 143kB 7.8MB/s eta 0:00:01\r\u001b[K     |██████████▏                     | 153kB 7.8MB/s eta 0:00:01\r\u001b[K     |███████████                     | 163kB 7.8MB/s eta 0:00:01\r\u001b[K     |███████████▋                    | 174kB 7.8MB/s eta 0:00:01\r\u001b[K     |████████████▎                   | 184kB 7.8MB/s eta 0:00:01\r\u001b[K     |█████████████                   | 194kB 7.8MB/s eta 0:00:01\r\u001b[K     |█████████████▋                  | 204kB 7.8MB/s eta 0:00:01\r\u001b[K     |██████████████▎                 | 215kB 7.8MB/s eta 0:00:01\r\u001b[K     |███████████████                 | 225kB 7.8MB/s eta 0:00:01\r\u001b[K     |███████████████▊                | 235kB 7.8MB/s eta 0:00:01\r\u001b[K     |████████████████▍               | 245kB 7.8MB/s eta 0:00:01\r\u001b[K     |█████████████████               | 256kB 7.8MB/s eta 0:00:01\r\u001b[K     |█████████████████▊              | 266kB 7.8MB/s eta 0:00:01\r\u001b[K     |██████████████████▍             | 276kB 7.8MB/s eta 0:00:01\r\u001b[K     |███████████████████             | 286kB 7.8MB/s eta 0:00:01\r\u001b[K     |███████████████████▊            | 296kB 7.8MB/s eta 0:00:01\r\u001b[K     |████████████████████▍           | 307kB 7.8MB/s eta 0:00:01\r\u001b[K     |█████████████████████▏          | 317kB 7.8MB/s eta 0:00:01\r\u001b[K     |█████████████████████▉          | 327kB 7.8MB/s eta 0:00:01\r\u001b[K     |██████████████████████▌         | 337kB 7.8MB/s eta 0:00:01\r\u001b[K     |███████████████████████▏        | 348kB 7.8MB/s eta 0:00:01\r\u001b[K     |███████████████████████▉        | 358kB 7.8MB/s eta 0:00:01\r\u001b[K     |████████████████████████▌       | 368kB 7.8MB/s eta 0:00:01\r\u001b[K     |█████████████████████████▏      | 378kB 7.8MB/s eta 0:00:01\r\u001b[K     |█████████████████████████▉      | 389kB 7.8MB/s eta 0:00:01\r\u001b[K     |██████████████████████████▋     | 399kB 7.8MB/s eta 0:00:01\r\u001b[K     |███████████████████████████▎    | 409kB 7.8MB/s eta 0:00:01\r\u001b[K     |████████████████████████████    | 419kB 7.8MB/s eta 0:00:01\r\u001b[K     |████████████████████████████▋   | 430kB 7.8MB/s eta 0:00:01\r\u001b[K     |█████████████████████████████▎  | 440kB 7.8MB/s eta 0:00:01\r\u001b[K     |██████████████████████████████  | 450kB 7.8MB/s eta 0:00:01\r\u001b[K     |██████████████████████████████▋ | 460kB 7.8MB/s eta 0:00:01\r\u001b[K     |███████████████████████████████▍| 471kB 7.8MB/s eta 0:00:01\r\u001b[K     |████████████████████████████████| 481kB 7.8MB/s \n",
            "\u001b[?25hRequirement already satisfied: six in /usr/local/lib/python3.7/dist-packages (from twilio) (1.15.0)\n",
            "Requirement already satisfied: pytz in /usr/local/lib/python3.7/dist-packages (from twilio) (2018.9)\n",
            "Collecting PyJWT==1.7.1\n",
            "  Downloading https://files.pythonhosted.org/packages/87/8b/6a9f14b5f781697e51259d81657e6048fd31a113229cf346880bb7545565/PyJWT-1.7.1-py2.py3-none-any.whl\n",
            "Requirement already satisfied: requests>=2.0.0 in /usr/local/lib/python3.7/dist-packages (from twilio) (2.23.0)\n",
            "Requirement already satisfied: urllib3!=1.25.0,!=1.25.1,<1.26,>=1.21.1 in /usr/local/lib/python3.7/dist-packages (from requests>=2.0.0->twilio) (1.24.3)\n",
            "Requirement already satisfied: idna<3,>=2.5 in /usr/local/lib/python3.7/dist-packages (from requests>=2.0.0->twilio) (2.10)\n",
            "Requirement already satisfied: certifi>=2017.4.17 in /usr/local/lib/python3.7/dist-packages (from requests>=2.0.0->twilio) (2021.5.30)\n",
            "Requirement already satisfied: chardet<4,>=3.0.2 in /usr/local/lib/python3.7/dist-packages (from requests>=2.0.0->twilio) (3.0.4)\n",
            "Building wheels for collected packages: twilio\n",
            "  Building wheel for twilio (setup.py) ... \u001b[?25l\u001b[?25hdone\n",
            "  Created wheel for twilio: filename=twilio-6.60.0-py2.py3-none-any.whl size=1272036 sha256=290e7d4dfc60423b8056b0ea7ab1564de64bdf1e8d2540281f547f77a4bc1b0c\n",
            "  Stored in directory: /root/.cache/pip/wheels/7f/c1/ec/a5a27a1939c479e5653881c30be53d4927a040725d634ec5fe\n",
            "Successfully built twilio\n",
            "Installing collected packages: PyJWT, twilio\n",
            "Successfully installed PyJWT-1.7.1 twilio-6.60.0\n"
          ],
          "name": "stdout"
        }
      ]
    },
    {
      "cell_type": "code",
      "metadata": {
        "colab": {
          "base_uri": "https://localhost:8080/"
        },
        "id": "u1WZTxYqLA2F",
        "outputId": "0ce01592-45e1-459e-db23-f5edf3b82af4"
      },
      "source": [
        "import os\n",
        "import random\n",
        "from twilio.rest import Client\n",
        "\n",
        "account_sid = \"AC4688e7199d8e7c8b412fe609ba6167f0\" # akun id twillio\n",
        "auth_token = \"3393672809410fa092f1c609c1e046bd\" # auth token twillio\n",
        "client = Client(account_sid, auth_token)\n",
        "\n",
        "otp = random.randint(1000,9999)\n",
        "\n",
        "message = client.messages.create(\n",
        "         body='tes otp sms, code otp '+str(otp),\n",
        "         from_='+14154771214', # nomor pengirim, nomor dari twilio\n",
        "         to='+6287869415384' # nomor tujuan\n",
        "     )\n",
        "\n",
        "print(message.sid)"
      ],
      "execution_count": null,
      "outputs": [
        {
          "output_type": "stream",
          "text": [
            "SM96a1af5b8f8e4ae4a6db976ffc684c24\n"
          ],
          "name": "stdout"
        }
      ]
    }
  ]
}